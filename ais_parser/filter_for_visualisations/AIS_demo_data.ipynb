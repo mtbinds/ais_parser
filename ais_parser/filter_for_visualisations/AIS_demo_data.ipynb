{
 "cells": [
  {
   "cell_type": "markdown",
   "metadata": {},
   "source": [
    "# AIS-PARSER DATA PLOTING\n",
    "\n",
    "In this demo, we'll be looking at a preprocessed csv file containing id-state-action-state transitions to plot the corresponding discretized ship trajectories on a map. For information on  how this csv was generated, please reference ``README.md`` or ``process_ais_data.py``."
   ]
  },
  {
   "cell_type": "code",
   "execution_count": 1,
   "metadata": {},
   "outputs": [],
   "source": [
    "import yaml\n",
    "import numpy as np\n",
    "import pandas as pd\n",
    "import plotly\n",
    "import plotly.graph_objs as go"
   ]
  },
  {
   "cell_type": "markdown",
   "metadata": {},
   "source": [
    "First, we load the metadata. The metadata specifies the dimensions and resolution of the grid in longitude and latitude (and more) so we can plot the discretized trajectories on a map by mapping coordinates to states. The ``grid_params['grid_len']`` is the side length of one square in degrees of a regular Euclidean grid with ``grid_params['num_cols']`` columns. With this information, we can deduce the boundaries of a grid square from an integer state. The metadata also contains a copy of how the preprocessing was performed so we can know the format of the csv. The csv will have 2 extra columns of longitude and latitude if ``options['append_coords']`` is true"
   ]
  },
  {
   "cell_type": "code",
   "execution_count": 2,
   "metadata": {},
   "outputs": [
    {
     "data": {
      "text/plain": "{'all_files_meta': {'aishub-data-20200122-00.csv': {'day': 22,\n   'month': 1,\n   'year': 2020}},\n 'directories': {'in_dir_data': 'ais_data_output.csv',\n  'in_dir_path': 'ais_parser/filtered_data_for_visualisations/'},\n 'grid_params': {'grid_len': 0.5,\n  'max_lat': 50.0,\n  'max_lon': 141.0,\n  'min_lat': 25.0,\n  'min_lon': -127.0,\n  'num_cols': 536},\n 'options': {'allow_diag': True,\n  'append_coords': True,\n  'bound_lat': True,\n  'bound_lon': False,\n  'bound_time': True,\n  'interp_actions': True,\n  'limit_rows': True,\n  'max_rows': 100000,\n  'min_states': 2,\n  'prec_coords': 3}}"
     },
     "execution_count": 2,
     "metadata": {},
     "output_type": "execute_result"
    }
   ],
   "source": [
    "meta_file= 'meta_data.yml'\n",
    "ais_meta = {}\n",
    "with open(meta_file, 'r') as stream:\n",
    "    try:\n",
    "        ais_meta = yaml.safe_load(stream)\n",
    "    except yaml.YAMLError as exc:\n",
    "        print(exc)\n",
    "\n",
    "all_files_meta = ais_meta['all_files_meta']\n",
    "options = ais_meta['options']\n",
    "directories = ais_meta['directories']\n",
    "grid_params = ais_meta['grid_params']\n",
    "\n",
    "# specifies input directory and files of interest\n",
    "in_dir_path = directories['in_dir_path']\n",
    "in_dir_data = directories['in_dir_data']\n",
    "\n",
    "ais_meta"
   ]
  },
  {
   "cell_type": "markdown",
   "metadata": {},
   "source": [
    "Now we load the sequences.\n",
    "\n",
    "In this dataset, there could be thousands of trajectories."
   ]
  },
  {
   "cell_type": "code",
   "execution_count": 3,
   "metadata": {},
   "outputs": [
    {
     "name": "stdout",
     "output_type": "stream",
     "text": [
      "     sequence_id  from_state_id  action_id  to_state_id  longitude  latitude\n",
      "0              0          17259          1        17260    -73.000    41.405\n",
      "1              0          17260         -1           -1    -73.000    41.405\n",
      "2              1            364          2          901     55.276    25.254\n",
      "3              1            901          2         1438     55.750    25.750\n",
      "4              1           1438          2         1975     56.250    26.250\n",
      "..           ...            ...        ...          ...        ...       ...\n",
      "636           33            496         -1           -1    121.493    25.334\n",
      "637           34           4887          1         4888    -95.001    29.614\n",
      "638           34           4888         -1           -1    -95.000    29.614\n",
      "639           35          22827          3        23363     30.782    46.421\n",
      "640           35          23363         -1           -1     30.731    46.504\n",
      "\n",
      "[641 rows x 6 columns]\n"
     ]
    },
    {
     "data": {
      "text/plain": "   sequence_id  from_state_id  action_id  to_state_id  longitude  latitude\n0            0          17259          1        17260    -73.000    41.405\n1            0          17260         -1           -1    -73.000    41.405\n2            1            364          2          901     55.276    25.254\n3            1            901          2         1438     55.750    25.750\n4            1           1438          2         1975     56.250    26.250",
      "text/html": "<div>\n<style scoped>\n    .dataframe tbody tr th:only-of-type {\n        vertical-align: middle;\n    }\n\n    .dataframe tbody tr th {\n        vertical-align: top;\n    }\n\n    .dataframe thead th {\n        text-align: right;\n    }\n</style>\n<table border=\"1\" class=\"dataframe\">\n  <thead>\n    <tr style=\"text-align: right;\">\n      <th></th>\n      <th>sequence_id</th>\n      <th>from_state_id</th>\n      <th>action_id</th>\n      <th>to_state_id</th>\n      <th>longitude</th>\n      <th>latitude</th>\n    </tr>\n  </thead>\n  <tbody>\n    <tr>\n      <th>0</th>\n      <td>0</td>\n      <td>17259</td>\n      <td>1</td>\n      <td>17260</td>\n      <td>-73.000</td>\n      <td>41.405</td>\n    </tr>\n    <tr>\n      <th>1</th>\n      <td>0</td>\n      <td>17260</td>\n      <td>-1</td>\n      <td>-1</td>\n      <td>-73.000</td>\n      <td>41.405</td>\n    </tr>\n    <tr>\n      <th>2</th>\n      <td>1</td>\n      <td>364</td>\n      <td>2</td>\n      <td>901</td>\n      <td>55.276</td>\n      <td>25.254</td>\n    </tr>\n    <tr>\n      <th>3</th>\n      <td>1</td>\n      <td>901</td>\n      <td>2</td>\n      <td>1438</td>\n      <td>55.750</td>\n      <td>25.750</td>\n    </tr>\n    <tr>\n      <th>4</th>\n      <td>1</td>\n      <td>1438</td>\n      <td>2</td>\n      <td>1975</td>\n      <td>56.250</td>\n      <td>26.250</td>\n    </tr>\n  </tbody>\n</table>\n</div>"
     },
     "execution_count": 3,
     "metadata": {},
     "output_type": "execute_result"
    }
   ],
   "source": [
    "# reads in first file of interest\n",
    "ais_data = pd.read_csv('filtered_data_for_visualisations/ais_data_output.csv')\n",
    "print(ais_data)\n",
    "\n",
    "ais_data.head()"
   ]
  },
  {
   "cell_type": "markdown",
   "metadata": {},
   "source": [
    "We define a function that converts the ``state_id``s from the ``ais_data`` to the coordinates corresponding to the middle of that grid square for plotting if ``options['append_coords']`` was not set to ``True`` before preprocessing."
   ]
  },
  {
   "cell_type": "code",
   "execution_count": 4,
   "metadata": {},
   "outputs": [],
   "source": [
    "def state_to_coord(state):\n",
    "    state_col = state % grid_params['num_cols']\n",
    "    state_row = state // grid_params['num_cols']\n",
    "    state_lon = grid_params['min_lon'] + grid_params['grid_len'] * (state_col + 0.5)\n",
    "    state_lat = grid_params['min_lat'] + grid_params['grid_len'] * (state_row + 0.5)\n",
    "    return state_lon, state_lat"
   ]
  },
  {
   "cell_type": "markdown",
   "metadata": {},
   "source": [
    "We use pandas to add coordinate columns to our dataframe that will contain the coordinates of the center of each state in each sequence, if this was not done in the preprocessing by setting ``options['append_coords']`` to ``True``."
   ]
  },
  {
   "cell_type": "code",
   "execution_count": 5,
   "metadata": {
    "scrolled": true
   },
   "outputs": [
    {
     "data": {
      "text/plain": "   sequence_id  from_state_id  action_id  to_state_id  longitude  latitude\n0            0          17259          1        17260    -73.000    41.405\n1            0          17260         -1           -1    -73.000    41.405\n2            1            364          2          901     55.276    25.254\n3            1            901          2         1438     55.750    25.750\n4            1           1438          2         1975     56.250    26.250",
      "text/html": "<div>\n<style scoped>\n    .dataframe tbody tr th:only-of-type {\n        vertical-align: middle;\n    }\n\n    .dataframe tbody tr th {\n        vertical-align: top;\n    }\n\n    .dataframe thead th {\n        text-align: right;\n    }\n</style>\n<table border=\"1\" class=\"dataframe\">\n  <thead>\n    <tr style=\"text-align: right;\">\n      <th></th>\n      <th>sequence_id</th>\n      <th>from_state_id</th>\n      <th>action_id</th>\n      <th>to_state_id</th>\n      <th>longitude</th>\n      <th>latitude</th>\n    </tr>\n  </thead>\n  <tbody>\n    <tr>\n      <th>0</th>\n      <td>0</td>\n      <td>17259</td>\n      <td>1</td>\n      <td>17260</td>\n      <td>-73.000</td>\n      <td>41.405</td>\n    </tr>\n    <tr>\n      <th>1</th>\n      <td>0</td>\n      <td>17260</td>\n      <td>-1</td>\n      <td>-1</td>\n      <td>-73.000</td>\n      <td>41.405</td>\n    </tr>\n    <tr>\n      <th>2</th>\n      <td>1</td>\n      <td>364</td>\n      <td>2</td>\n      <td>901</td>\n      <td>55.276</td>\n      <td>25.254</td>\n    </tr>\n    <tr>\n      <th>3</th>\n      <td>1</td>\n      <td>901</td>\n      <td>2</td>\n      <td>1438</td>\n      <td>55.750</td>\n      <td>25.750</td>\n    </tr>\n    <tr>\n      <th>4</th>\n      <td>1</td>\n      <td>1438</td>\n      <td>2</td>\n      <td>1975</td>\n      <td>56.250</td>\n      <td>26.250</td>\n    </tr>\n  </tbody>\n</table>\n</div>"
     },
     "execution_count": 5,
     "metadata": {},
     "output_type": "execute_result"
    }
   ],
   "source": [
    "if not options['append_coords']:\n",
    "    ais_data[['longitude', 'latitude']] = ais_data.apply(lambda x: state_to_coord(x['from_state_id']), axis=1, result_type='expand')\n",
    "ais_data.head()"
   ]
  },
  {
   "cell_type": "markdown",
   "metadata": {},
   "source": [
    "With the latitudes and longitudes now available, we add a final row to each trajectory with just the last state so a one-to-one mapping of state to coordinates is formed, if this was not already done in preprocessing."
   ]
  },
  {
   "cell_type": "code",
   "execution_count": 6,
   "metadata": {},
   "outputs": [],
   "source": [
    "if not options['append_coords']:\n",
    "    sequence_dfs = pd.DataFrame(columns=['sequence_id', 'from_state_id', 'action_id', 'to_state_id', 'longitude', 'latitude'])\n",
    "    for traj_num, traj in ais_data.groupby('sequence_id'):\n",
    "        # adds final dummy row to each sequence with just the final state in the trajectory\n",
    "        last_state = traj['to_state_id'].iloc[-1]\n",
    "        last_lon, last_lat = state_to_coord(last_state)\n",
    "\n",
    "        final_state = {'sequence_id': traj_num, 'from_state_id': last_state, 'action_id': -1, 'to_state_id': -1, 'longitude': last_lon, 'latitude': last_lat}\n",
    "        final_df = pd.DataFrame(final_state, index=[0, ])\n",
    "        traj = pd.concat([traj, final_df], ignore_index=True)\n",
    "        \n",
    "        sequence_dfs = pd.concat([sequence_dfs, traj], ignore_index=True)\n",
    "    \n",
    "    ais_data = sequence_dfs\n",
    "        \n",
    "    print(sequence_dfs)"
   ]
  },
  {
   "cell_type": "markdown",
   "metadata": {},
   "source": [
    "We then use plotly to plot the data on an interactive map, with the option to limit the number of trajectories we plot in the interest of performance and aesthetics. Trajectories may be clicked to enlargen them to better discern where an individual trajectory goes."
   ]
  },
  {
   "cell_type": "code",
   "execution_count": 7,
   "metadata": {},
   "outputs": [
    {
     "data": {
      "text/html": "        <script type=\"text/javascript\">\n        window.PlotlyConfig = {MathJaxConfig: 'local'};\n        if (window.MathJax) {MathJax.Hub.Config({SVG: {font: \"STIX-Web\"}});}\n        if (typeof require !== 'undefined') {\n        require.undef(\"plotly\");\n        requirejs.config({\n            paths: {\n                'plotly': ['https://cdn.plot.ly/plotly-latest.min']\n            }\n        });\n        require(['plotly'], function(Plotly) {\n            window._Plotly = Plotly;\n        });\n        }\n        </script>\n        "
     },
     "metadata": {},
     "output_type": "display_data"
    },
    {
     "data": {
      "text/plain": "FigureWidget({\n    'data': [{'hoverinfo': 'text',\n              'lat': array([41.405, 25.254, 25.75 , ..., 29.…",
      "application/vnd.jupyter.widget-view+json": {
       "version_major": 2,
       "version_minor": 0,
       "model_id": "24c8feefd60a4c60bdcf26165e287fe2"
      }
     },
     "metadata": {},
     "output_type": "display_data"
    }
   ],
   "source": [
    "# controls how many trajectories to plot - set to -1 to plot all trajectories available\n",
    "MAX_TRAJECTORIES = 250\n",
    "\n",
    "plotly.offline.init_notebook_mode(connected=True)\n",
    "\n",
    "if MAX_TRAJECTORIES > -1:\n",
    "    ais_data = ais_data[ais_data['sequence_id'] < MAX_TRAJECTORIES]\n",
    "\n",
    "ais_unique = ais_data[['longitude', 'latitude']].drop_duplicates()  # gets the unique coordinates we're going to plot\n",
    "    \n",
    "ais_states = [go.Scattergeo(\n",
    "    locationmode = 'country names',\n",
    "    lon = ais_unique['longitude'],\n",
    "    lat = ais_unique['latitude'],\n",
    "    hoverinfo = 'text',\n",
    "    text = ais_data['sequence_id'],\n",
    "    mode = 'markers',\n",
    "    marker = go.scattergeo.Marker(\n",
    "        size = 2,\n",
    "        color = 'red',\n",
    "        line = go.scattergeo.marker.Line(\n",
    "            width = 3,\n",
    "            color = 'rgba(68, 68, 68, 50)'\n",
    "        )\n",
    "    ))]\n",
    "\n",
    "\n",
    "ais_trajectories = []\n",
    "for traj_num, traj_data in ais_data.groupby('sequence_id'):\n",
    "    # gets random color for each trajectory\n",
    "    red = str(np.random.randint(0, high=230))\n",
    "    green = str(np.random.randint(0, high=230))\n",
    "    blue = str(np.random.randint(0, high=230))\n",
    "    ais_trajectories.append(\n",
    "        go.Scattergeo(\n",
    "            lon = traj_data['longitude'],\n",
    "            lat = traj_data['latitude'],\n",
    "            mode = 'lines',\n",
    "            line = go.scattergeo.Line(\n",
    "                width = 1,\n",
    "                color = 'rgb(' + red + ', ' + blue + ', ' + green + ')',\n",
    "            ),\n",
    "        )\n",
    "    )\n",
    "\n",
    "layout = go.Layout(\n",
    "    autosize=False,\n",
    "    width=900,\n",
    "    height=750,\n",
    "    title = go.layout.Title(\n",
    "        text = 'Shipping Data States Scatter'\n",
    "    ),\n",
    "    showlegend = False,\n",
    "    geo = go.layout.Geo(\n",
    "        scope = 'world',\n",
    "        resolution = 50,\n",
    "        projection = go.layout.geo.Projection(\n",
    "            type = 'equirectangular'\n",
    "        ),\n",
    "        showland = True,\n",
    "        showlakes = True,\n",
    "        coastlinewidth = 2,\n",
    "        landcolor = 'rgb(204, 204, 204)',\n",
    "        lakecolor = 'rgb(255,255,255)',\n",
    "        countrycolor = 'rgb(190, 190, 190)',\n",
    "        lonaxis = go.layout.geo.Lonaxis(\n",
    "            range = [grid_params['min_lon'] - 25, grid_params['max_lon'] + 25],\n",
    "            showgrid = True,\n",
    "            dtick = grid_params['grid_len']\n",
    "        ),\n",
    "        lataxis = go.layout.geo.Lataxis(\n",
    "            range = [grid_params['min_lat'] - 15, grid_params['max_lat'] + 15],\n",
    "            showgrid = True,\n",
    "            dtick = grid_params['grid_len']\n",
    "        ),\n",
    "    ),\n",
    ")\n",
    "\n",
    "fig = go.FigureWidget(data = ais_states + ais_trajectories, layout = layout)\n",
    "\n",
    "lines = fig.data[1:]\n",
    "\n",
    "# create our callback function\n",
    "def update_point(trace, points, selector):\n",
    "    if len(points.point_inds) > 0:\n",
    "        trace.line.width += 1\n",
    "\n",
    "for line in lines:\n",
    "    line.on_click(update_point)\n",
    "\n",
    "fig"
   ]
  },
  {
   "cell_type": "code",
   "execution_count": 7,
   "metadata": {},
   "outputs": [],
   "source": [
    "\n"
   ]
  },
  {
   "cell_type": "markdown",
   "metadata": {},
   "source": []
  },
  {
   "cell_type": "code",
   "execution_count": 7,
   "metadata": {},
   "outputs": [],
   "source": []
  },
  {
   "cell_type": "code",
   "execution_count": 7,
   "metadata": {},
   "outputs": [],
   "source": []
  },
  {
   "cell_type": "code",
   "execution_count": 7,
   "metadata": {},
   "outputs": [],
   "source": []
  }
 ],
 "metadata": {
  "kernelspec": {
   "display_name": "Python 3",
   "language": "python",
   "name": "python3"
  },
  "language_info": {
   "codemirror_mode": {
    "name": "ipython",
    "version": 3
   },
   "file_extension": ".py",
   "mimetype": "text/x-python",
   "name": "python",
   "nbconvert_exporter": "python",
   "pygments_lexer": "ipython3",
   "version": "3.8.5"
  }
 },
 "nbformat": 4,
 "nbformat_minor": 2
}